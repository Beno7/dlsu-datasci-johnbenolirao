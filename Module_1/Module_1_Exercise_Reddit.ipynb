{
 "cells": [
  {
   "cell_type": "code",
   "execution_count": 107,
   "metadata": {},
   "outputs": [],
   "source": [
    "import pandas as pd \n",
    "import datetime\n",
    "import csv\n",
    "import os \n",
    "import requests \n",
    "import datetime as dt\n",
    "import time"
   ]
  },
  {
   "cell_type": "markdown",
   "metadata": {},
   "source": [
    "# Exercise"
   ]
  },
  {
   "cell_type": "markdown",
   "metadata": {},
   "source": [
    "For your exercise do the following:\n",
    "\n",
    "1. Choose a reddit page you want to crawl\n",
    "2. The following fields should be present when you crawl **(10 points)**:\n",
    "    - author\n",
    "    - subreddit\n",
    "    - date created \n",
    "    - number of comments \n",
    "    - score\n",
    "    - submission title \n",
    "    - submission description\n",
    "3. After crawling, save your results to a pandas dataframe **(3 points)**. \n",
    "4. Answer the following questions **(12 points)**:\n",
    "    - How many submissions were you able to gather? \n",
    "    - Who has the most submissions? \n",
    "    - Which submission has the highest score? \n",
    "    - Which submission has the highest number of comments?\n",
    "    - Which day of the week has the most submissions? \n",
    "    \n",
    "**Tip:** _For item#4, recall how to use the aggregation functions in `pandas` like count, value_counts, sum, etc. For getting the day of the week, look into how to get the `dayofweek` from a datetime object in `pandas`. (Hint: You may need to use `pd.to_datetime` to convert your date column...)_"
   ]
  },
  {
   "cell_type": "code",
   "execution_count": 108,
   "metadata": {},
   "outputs": [],
   "source": [
    "retrieved_data = requests.get(**{\n",
    "    \"url\": \"https://api.pushshift.io/reddit/submission/search/\",\n",
    "    \"params\": {\n",
    "        'after': 1585699199, #get dates after March 31, 2020\n",
    "        'before': 1588291200, #get dates before May 1, 2020\n",
    "        'subreddit': 'dlsu',\n",
    "        'size': 500,\n",
    "        'fields': [\"author\", \"subreddit\", \"created_utc\", \"num_comments\", \"score\", \"title\", \"selftext\"]\n",
    "    }\n",
    "}).json()[\"data\"]"
   ]
  },
  {
   "cell_type": "code",
   "execution_count": 111,
   "metadata": {},
   "outputs": [],
   "source": [
    "def format_data():\n",
    "    data = {\n",
    "        \"author\": [],\n",
    "        \"subreddit\": [],\n",
    "        \"created_at\": [],\n",
    "        \"num_of_comments\": [],\n",
    "        \"score\": [],\n",
    "        \"title\": [],\n",
    "        \"description\": []\n",
    "    }\n",
    "    for reddit in retrieved_data:\n",
    "        data[\"author\"].append(reddit[\"author\"])\n",
    "        data[\"subreddit\"].append(reddit[\"subreddit\"])\n",
    "        data[\"title\"].append(reddit[\"title\"])\n",
    "        data[\"description\"].append(reddit[\"selftext\"])\n",
    "        data[\"score\"].append(reddit[\"score\"])\n",
    "        data[\"num_of_comments\"].append(reddit[\"num_comments\"])\n",
    "        data[\"created_at\"].append(reddit[\"created_utc\"])\n",
    "    return data\n",
    "\n",
    "df[\"created_at\"] = pd.to_datetime(df[\"created_at\"],unit=\"s\",origin=\"unix\")\n",
    "df[\"day_of_week\"] = df[\"created_at\"].dt.day_name()"
   ]
  },
  {
   "cell_type": "code",
   "execution_count": 112,
   "metadata": {},
   "outputs": [
    {
     "name": "stdout",
     "output_type": "stream",
     "text": [
      "Total Submission Count: 100\n",
      "Author with Most Submissions: camnacio_13 (11 submissions)\n",
      "Submission with highest score: 'Opportunities in abroad' by Cheezyreine (9 submissions)\n",
      "Submission with highest comments: 'Laptop' by vgtrxx (14 comments)\n",
      "Day of week with most submissions Sunday (18 submissions)\n"
     ]
    }
   ],
   "source": [
    "total_submission_cnt = len(df)\n",
    "text1 = f\"Total Submission Count: {total_submission_cnt}\"\n",
    "print(text1)\n",
    "author_with_most_submissions = df[\"author\"].mode()[0]\n",
    "author_submission_count = len(df[df[\"author\"] == author_with_most_submissions])\n",
    "text2 = f\"Author with Most Submissions: {author_with_most_submissions} ({author_submission_count} submissions)\"\n",
    "print(text2)\n",
    "submission_with_highest_score = df.loc[df[\"score\"].idxmax()]\n",
    "text3 = f\"Submission with highest score: '{submission_with_highest_score['title']}' by {submission_with_highest_score['author']} ({submission_with_highest_score['score']} submissions)\"\n",
    "print(text3)\n",
    "submission_with_highest_comms = df.loc[df[\"num_of_comments\"].idxmax()]\n",
    "text4 = f\"Submission with highest comments: '{submission_with_highest_comms['title']}' by {submission_with_highest_comms['author']} ({submission_with_highest_comms['num_of_comments']} comments)\"\n",
    "print(text4)\n",
    "df_agg = df.groupby(['day_of_week'])[\"day_of_week\"].count()\n",
    "max_day_index = df_agg.idxmax()\n",
    "text5 = f\"Day of week with most submissions {max_day_index} ({df_agg.loc[df_agg.idxmax()]} submissions)\"\n",
    "print(text5)\n"
   ]
  },
  {
   "cell_type": "code",
   "execution_count": null,
   "metadata": {},
   "outputs": [],
   "source": []
  }
 ],
 "metadata": {
  "kernelspec": {
   "display_name": "Python 3",
   "language": "python",
   "name": "python3"
  },
  "language_info": {
   "codemirror_mode": {
    "name": "ipython",
    "version": 3
   },
   "file_extension": ".py",
   "mimetype": "text/x-python",
   "name": "python",
   "nbconvert_exporter": "python",
   "pygments_lexer": "ipython3",
   "version": "3.8.5"
  }
 },
 "nbformat": 4,
 "nbformat_minor": 4
}
