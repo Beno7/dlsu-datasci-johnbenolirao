{
 "cells": [
  {
   "cell_type": "code",
   "execution_count": 1,
   "metadata": {},
   "outputs": [],
   "source": [
    "import requests\n",
    "from bs4 import BeautifulSoup\n",
    "import json\n",
    "import re\n",
    "import pandas as pd\n",
    "import numpy as np\n",
    "from datetime import datetime"
   ]
  },
  {
   "cell_type": "code",
   "execution_count": 7,
   "metadata": {},
   "outputs": [],
   "source": [
    "url = \"https://en.wikipedia.org/wiki/Template:COVID-19_pandemic_data/Philippines_medical_cases\"\n",
    "\n",
    "r = requests.get(\n",
    "    url\n",
    ")\n",
    "\n",
    "soup = BeautifulSoup(r.text, \"html.parser\")\n",
    "\n",
    "\n",
    "# print(soup.prettify())\n"
   ]
  },
  {
   "cell_type": "code",
   "execution_count": 93,
   "metadata": {},
   "outputs": [
    {
     "name": "stdout",
     "output_type": "stream",
     "text": [
      "Table Row Length: 190\n"
     ]
    }
   ],
   "source": [
    "h3_marker = soup.find(\"span\", attrs={'id':'By_region'}).find_parent('h3')\n",
    "t_rows = h3_marker.findNextSibling().findNextSibling().find('tbody').find_all(recursive=False)\n",
    "print(f\"Table Row Length: {len(t_rows)}\")"
   ]
  },
  {
   "cell_type": "code",
   "execution_count": 94,
   "metadata": {},
   "outputs": [
    {
     "name": "stdout",
     "output_type": "stream",
     "text": [
      "Extracted Headers: ['date', 'regions_ncr', 'regions_car', 'regions_i', 'regions_ii', 'regions_iii', 'regions_iv_a', 'regions_iv_b', 'regions_v', 'regions_vi', 'regions_vii', 'regions_viii', 'regions_ix', 'regions_x', 'regions_xi', 'regions_xii', 'regions_xiii', 'regions_bar', 'confirmed_new', 'confirmed_total', 'deaths_new', 'deaths_total', 'active_total', 'recov._total', 'tested_total', 'ref.', 'notes']\n"
     ]
    }
   ],
   "source": [
    "headers1 = []\n",
    "headers2 = []\n",
    "\n",
    "for _ in range(30):\n",
    "    headers1.append(None)\n",
    "    headers2.append(None)\n",
    "\n",
    "actual_index = 0\n",
    "for index2, th in enumerate(t_rows[0].find_all('th')):\n",
    "    if th.has_attr('rowspan'):\n",
    "        for index3, col in enumerate(range(int(th['rowspan']))):\n",
    "            if index3 == 0:\n",
    "                headers1[actual_index] = th.text\n",
    "            headers2[actual_index] = ''\n",
    "            actual_index = actual_index + 1\n",
    "    elif th.has_attr('colspan'):\n",
    "        for index3, col in enumerate(range(int(th['colspan']))):\n",
    "            headers1[actual_index] = th.text\n",
    "            actual_index = actual_index + 1\n",
    "    else:\n",
    "        headers1[actual_index] = th.text\n",
    "        actual_index = actual_index + 1\n",
    "    \n",
    "for th in t_rows[1].find_all('th'):\n",
    "    actual_index = 0\n",
    "    for h in headers2:\n",
    "        # print(h)\n",
    "        if h == None:\n",
    "            break;\n",
    "        actual_index = actual_index + 1\n",
    "    # print(actual_index)\n",
    "    headers2[actual_index] = th.text\n",
    "        \n",
    "full_headers = []\n",
    "for index in range(30):\n",
    "    if headers2[index] != '':\n",
    "        if headers1[index] is not None:\n",
    "            full_headers.append(headers1[index] + \"-\" + headers2[index])\n",
    "        else:\n",
    "            full_headers.append(headers2[index])\n",
    "    else:\n",
    "        full_headers.append(headers1[index])\n",
    "full_headers = [i.replace('\\n', '').replace('-', '_').lower() for i in full_headers if i] \n",
    "print(f\"Extracted Headers: {full_headers}\")"
   ]
  },
  {
   "cell_type": "code",
   "execution_count": 95,
   "metadata": {},
   "outputs": [
    {
     "name": "stdout",
     "output_type": "stream",
     "text": [
      "190\n",
      "183\n"
     ]
    }
   ],
   "source": [
    "row_length = len(t_rows)\n",
    "print(row_length)\n",
    "t_rows.pop(0)\n",
    "t_rows.pop(0)\n",
    "t_rows.pop()\n",
    "t_rows.pop()\n",
    "t_rows.pop()\n",
    "t_rows.pop()\n",
    "t_rows.pop()\n",
    "print(len(t_rows))"
   ]
  },
  {
   "cell_type": "code",
   "execution_count": 119,
   "metadata": {},
   "outputs": [
    {
     "name": "stdout",
     "output_type": "stream",
     "text": [
      "0      January 30, 2020\n",
      "1      January 31, 2020\n",
      "2      February 1, 2020\n",
      "3      February 3, 2020\n",
      "4      February 5, 2020\n",
      "             ...       \n",
      "178     August 25, 2020\n",
      "179     August 26, 2020\n",
      "180     August 27, 2020\n",
      "181     August 28, 2020\n",
      "182     August 29, 2020\n",
      "Name: date, Length: 183, dtype: object\n",
      "          date  regions_ncr  regions_car  regions_i  regions_ii regions_iii  \\\n",
      "0   2020-01-30            0            0          0           0           0   \n",
      "1   2020-01-31            0            0          0           0           0   \n",
      "2   2020-02-01            0            0          0           0           0   \n",
      "3   2020-02-03            0            0          0           0           0   \n",
      "4   2020-02-05            0            0          0           0           0   \n",
      "..         ...          ...          ...        ...         ...         ...   \n",
      "178 2020-08-25         1575           24         15          14         251   \n",
      "179 2020-08-26         3157           31         26          22         186   \n",
      "180 2020-08-27         1584            3         19          21         142   \n",
      "181 2020-08-28         2097           35         37          33         248   \n",
      "182 2020-08-29         2030           33         13          60         238   \n",
      "\n",
      "     regions_iv_a  regions_iv_b  regions_v  regions_vi  ...  regions_xii  \\\n",
      "0               0             0          0           0  ...            0   \n",
      "1               0             0          0           0  ...            0   \n",
      "2               0             0          0           0  ...            0   \n",
      "3               0             0          0           0  ...            0   \n",
      "4               0             0          0           0  ...            0   \n",
      "..            ...           ...        ...         ...  ...          ...   \n",
      "178           472            22         23         273  ...            7   \n",
      "179          1000            22        186         360  ...           23   \n",
      "180           613             4         61         214  ...            9   \n",
      "181           587            12         31         218  ...            4   \n",
      "182           666             0         32         166  ...           10   \n",
      "\n",
      "     regions_xiii  regions_bar  confirmed_new  confirmed_total  deaths_new  \\\n",
      "0               0            0              1                1           0   \n",
      "1               0            0              0                1           0   \n",
      "2               0            0              0                1           1   \n",
      "3               0            0              1                2           0   \n",
      "4               0            0              1                3           0   \n",
      "..            ...          ...            ...              ...         ...   \n",
      "178             4            8           2965              556          34   \n",
      "179            38           24           5277             5753          99   \n",
      "180            15           34           3249             8973          97   \n",
      "181            11           26           3999            12936          91   \n",
      "182             9            4           3637            16523           0   \n",
      "\n",
      "     deaths_total  active_total  recov._total  tested_total  \n",
      "0               0             2             0             0  \n",
      "1               0             2             1             0  \n",
      "2               1             1             1             0  \n",
      "3               1             1             1             0  \n",
      "4               1             1             1             0  \n",
      "..            ...           ...           ...           ...  \n",
      "178          3038         61730          1324         26192  \n",
      "179          3137           228          2388         55632  \n",
      "180          3234          2821          2918         23463  \n",
      "181          3325          6209          3402         64161  \n",
      "182          3419          9075          4029             0  \n",
      "\n",
      "[183 rows x 25 columns]\n"
     ]
    }
   ],
   "source": [
    "\n",
    "\n",
    "data_dict = {}\n",
    "for h in full_headers:\n",
    "    data_dict[h] = []\n",
    "\n",
    "for tr in t_rows:\n",
    "    for index, td in enumerate(tr.find_all('td')):\n",
    "        cell_val = td.text.replace('\\n', '').strip()\n",
    "        # print('0' if cell_val == '' or cell_val == '–' else cell_val)\n",
    "        data_dict[full_headers[index]].append('0' if cell_val == '' or cell_val == '–' else cell_val)\n",
    "\n",
    "del data_dict['ref.']\n",
    "del data_dict['notes']\n",
    "        \n",
    "df = pd.DataFrame(data=data_dict)\n",
    "df['date'] = pd.to_datetime(df['date'], format=\"%B %d, %Y\")\n",
    "df['regions_ncr'] = df['regions_ncr'].astype('uint16')\n",
    "df['regions_car'] = df['regions_car'].astype('uint16')\n",
    "df['regions_i'] = df['regions_i'].astype('uint16')\n",
    "df['regions_ii'] = df['regions_ii'].astype('uint16')\n",
    "df['regions_iv_a'] = df['regions_iv_a'].astype('uint16')\n",
    "df['regions_iv_b'] = df['regions_iv_b'].astype('uint16')\n",
    "df['regions_v'] = df['regions_v'].astype('uint16')\n",
    "df['regions_vi'] = df['regions_vi'].astype('uint16')\n",
    "df['regions_vii'] = df['regions_vii'].astype('uint16')\n",
    "df['regions_viii'] = df['regions_viii'].astype('uint16')\n",
    "df['regions_ix'] = df['regions_ix'].astype('uint16')\n",
    "df['regions_x'] = df['regions_x'].astype('uint16')\n",
    "df['regions_xi'] = df['regions_xi'].astype('uint16')\n",
    "df['regions_xii'] = df['regions_xii'].astype('uint16')\n",
    "df['regions_xiii'] = df['regions_xiii'].astype('uint16')\n",
    "df['regions_bar'] = df['regions_bar'].astype('uint16')\n",
    "df['confirmed_new'] = df['confirmed_new'].astype('uint16')\n",
    "df['confirmed_total'] = df['confirmed_total'].astype('uint16')\n",
    "df['deaths_new'] = df['deaths_new'].astype('uint16')\n",
    "df['deaths_total'] = df['deaths_total'].astype('uint16')\n",
    "df['active_total'] = df['active_total'].astype('uint16')\n",
    "df['recov._total'] = df['recov._total'].astype('uint16')\n",
    "df['tested_total'] = df['tested_total'].astype('uint16')\n",
    "\n",
    "df.to_csv('datasets/covid_spread_from_daily_summary.csv', index=False)\n",
    "print(df)"
   ]
  },
  {
   "cell_type": "code",
   "execution_count": null,
   "metadata": {},
   "outputs": [],
   "source": []
  }
 ],
 "metadata": {
  "kernelspec": {
   "display_name": "Python 3",
   "language": "python",
   "name": "python3"
  },
  "language_info": {
   "codemirror_mode": {
    "name": "ipython",
    "version": 3
   },
   "file_extension": ".py",
   "mimetype": "text/x-python",
   "name": "python",
   "nbconvert_exporter": "python",
   "pygments_lexer": "ipython3",
   "version": "3.8.5"
  }
 },
 "nbformat": 4,
 "nbformat_minor": 4
}
