{
 "cells": [
  {
   "cell_type": "code",
   "execution_count": 1,
   "metadata": {},
   "outputs": [],
   "source": [
    "# import required py modules\n",
    "import pandas as pd\n",
    "import numpy as np\n",
    "from pandas.api.types import CategoricalDtype"
   ]
  },
  {
   "cell_type": "code",
   "execution_count": 2,
   "metadata": {},
   "outputs": [],
   "source": [
    "# Define Global Quarantine Pandas Categorical Type\n",
    "# https://rappler.com/newsbreak/iq/explainer-movement-areas-under-community-quarantine-coronavirus\n",
    "quarantine_types = ['NONE', 'MGCQ', 'GCQ', 'MECQ', 'ECQ']\n",
    "quarantine_cat_type = CategoricalDtype(categories=quarantine_types, ordered=True)"
   ]
  },
  {
   "cell_type": "code",
   "execution_count": 3,
   "metadata": {},
   "outputs": [
    {
     "name": "stdout",
     "output_type": "stream",
     "text": [
      "Region Demography Data Loaded with Shape (44, 2)\n"
     ]
    }
   ],
   "source": [
    "# Define region demography dataframe\n",
    "df_reg_demography = pd.read_csv('datasets/Region Demography.csv', dtype={'Location': 'object', 'Region': 'category'})\n",
    "print(f\"Region Demography Data Loaded with Shape {df_reg_demography.shape}\")"
   ]
  },
  {
   "cell_type": "code",
   "execution_count": 4,
   "metadata": {},
   "outputs": [
    {
     "name": "stdout",
     "output_type": "stream",
     "text": [
      "Declaration Timeline Data Loaded with Shape (106, 3)\n"
     ]
    }
   ],
   "source": [
    "# Define declaration timeline dataframe\n",
    "df_q_dec_timeline = pd.read_csv('datasets/Declaration Timeline.csv', dtype={'Date': 'string', 'isStart': 'bool', 'isEnd': 'bool'})\n",
    "df_q_dec_timeline['Date'] = pd.to_datetime(df_q_dec_timeline['Date'])\n",
    "print(f\"Declaration Timeline Data Loaded with Shape {df_q_dec_timeline.shape}\")"
   ]
  },
  {
   "cell_type": "code",
   "execution_count": 5,
   "metadata": {},
   "outputs": [],
   "source": [
    "# Define province extractor function\n",
    "def province_to_locations_array(region):\n",
    "    '''\n",
    "    Returns an array of locations given a region\n",
    "    Throws KeyError\n",
    "    \n",
    "    parameter: region\n",
    "    returns array\n",
    "    '''\n",
    "    return df_reg_demography.query(f\"Region == '{region}'\")['Location'].values;\n",
    "\n",
    "def all_provinces_array():\n",
    "    '''\n",
    "    Returns an array of all locations\n",
    "    \n",
    "    parameter: region\n",
    "    returns array\n",
    "    '''\n",
    "    provinces_3 = province_to_locations_array(\"III\").tolist()\n",
    "    provinces_4a = province_to_locations_array(\"IV-A\").tolist()\n",
    "    provinces_ncr = province_to_locations_array(\"NCR\").tolist()\n",
    "    provinces_9 = province_to_locations_array(\"VII\").tolist()\n",
    "    provinces_11 = province_to_locations_array(\"XI\").tolist()\n",
    "    return provinces_3 + provinces_4a + provinces_ncr + provinces_9 + provinces_11"
   ]
  },
  {
   "cell_type": "code",
   "execution_count": 6,
   "metadata": {},
   "outputs": [],
   "source": [
    "# Define function that will read Quarantine Timeline CSVs\n",
    "def read_quarantine_timeline(region):\n",
    "    dtypes = {\"Date\": 'string'}\n",
    "    provinces = province_to_locations_array(region)\n",
    "    for province in provinces:\n",
    "        dtypes[province] = quarantine_cat_type\n",
    "    df = pd.read_csv(f\"datasets/Quarantine Timeline - {region}.csv\", dtype=dtypes)\n",
    "    df['Date'] = pd.to_datetime(df['Date'])\n",
    "    return df"
   ]
  },
  {
   "cell_type": "code",
   "execution_count": 7,
   "metadata": {},
   "outputs": [],
   "source": [
    "# Extract csvs per region\n",
    "df_quarantine_timeline = {\n",
    "    \"III\": read_quarantine_timeline(\"III\"),\n",
    "    \"IV-A\": read_quarantine_timeline(\"IV-A\"),\n",
    "    \"NCR\": read_quarantine_timeline(\"NCR\"),\n",
    "    \"VII\": read_quarantine_timeline(\"VII\"),\n",
    "    \"XI\": read_quarantine_timeline(\"XI\")\n",
    "}"
   ]
  },
  {
   "cell_type": "code",
   "execution_count": 8,
   "metadata": {},
   "outputs": [
    {
     "name": "stdout",
     "output_type": "stream",
     "text": [
      "Data Merged with columns Index(['Date', 'isStart', 'isEnd', 'Aurora', 'Bataan', 'Bulacan',\n",
      "       'Nueva Ecija', 'Pampanga', 'Tarlac', 'Zambales', 'Angeles', 'Olongapo',\n",
      "       'Batangas', 'Cavite', 'Laguna', 'Rizal', 'Quezon', 'Caloocan',\n",
      "       'Las Pinas', 'Makati', 'Malabon', 'Mandaluyong', 'Manila', 'Marikina',\n",
      "       'Muntinlupa', 'Navotas', 'Paranaque', 'Pasay', 'Pasig', 'Pateros',\n",
      "       'Quezon City', 'San Juan', 'Taguig', 'Valenzuela', 'Bohol', 'Cebu',\n",
      "       'Negros Oriental', 'Siquijor', 'Cebu City', 'Lapu-lapu City',\n",
      "       'Mandaue City', 'Davao del Norte', 'Davao del Sur', 'Davao Oriental',\n",
      "       'Davao Occidental', 'Davao de Oro', 'Davao City'],\n",
      "      dtype='object')\n",
      "Data is from 2020-03-17 00:00:00 to 2020-06-30 00:00:00\n"
     ]
    }
   ],
   "source": [
    "# Join regional data and perform wrangling\n",
    "df_regional_quarantine_timeline = df_q_dec_timeline\n",
    "del df_q_dec_timeline\n",
    "for region in df_quarantine_timeline.keys():\n",
    "    df_regional_quarantine_timeline = df_regional_quarantine_timeline.merge(df_quarantine_timeline[region], on=\"Date\")\n",
    "del df_quarantine_timeline\n",
    "print(f\"Data Merged with columns {df_regional_quarantine_timeline.columns}\")\n",
    "print(f\"Data is from {df_regional_quarantine_timeline['Date'].min()} to {df_regional_quarantine_timeline['Date'].max()}\")"
   ]
  },
  {
   "cell_type": "code",
   "execution_count": 9,
   "metadata": {},
   "outputs": [
    {
     "name": "stdout",
     "output_type": "stream",
     "text": [
      "Date                       datetime64[ns]\n",
      "isStart                              bool\n",
      "isEnd                                bool\n",
      "Aurora                           category\n",
      "Bataan                           category\n",
      "                                ...      \n",
      "Davao del Norte Q Code              uint8\n",
      "Davao del Sur Q Code                uint8\n",
      "Davao Occidental Q Code             uint8\n",
      "Davao Oriental Q Code               uint8\n",
      "Davao City Q Code                   uint8\n",
      "Length: 96, dtype: object\n"
     ]
    }
   ],
   "source": [
    "# Perform Feature Engineering\n",
    "\n",
    "# Add date details\n",
    "df_regional_quarantine_timeline['day_of_week'] = df_regional_quarantine_timeline['Date'].dt.dayofweek.astype('uint8')\n",
    "df_regional_quarantine_timeline['month'] = df_regional_quarantine_timeline['Date'].dt.month.astype('uint8')\n",
    "df_regional_quarantine_timeline['day_of_month'] = df_regional_quarantine_timeline['Date'].dt.day.astype('uint8')\n",
    "df_regional_quarantine_timeline['day_of_year'] = df_regional_quarantine_timeline['Date'].dt.dayofyear.astype('uint16')\n",
    "df_regional_quarantine_timeline['day_name'] = pd.Categorical(\n",
    "    df_regional_quarantine_timeline['Date'].dt.day_name(),\n",
    "    categories=[\"Monday\", \"Tuesday\", \"Wednesday\", \"Thursday\", \"Friday\", \"Saturday\", \"Sunday\"],\n",
    "    ordered=True)\n",
    "\n",
    "# Add Category Code\n",
    "provinces = all_provinces_array()\n",
    "for province in provinces:\n",
    "    df_regional_quarantine_timeline[f'{province} Q Code'] = df_regional_quarantine_timeline[province].cat.codes.astype('uint8')\n",
    "del provinces\n",
    "    \n",
    "print(df_regional_quarantine_timeline.dtypes)"
   ]
  },
  {
   "cell_type": "code",
   "execution_count": 47,
   "metadata": {},
   "outputs": [],
   "source": [
    "# Add Mode of Quarantine Level of all provinces\n",
    "provinces = all_provinces_array()\n",
    "df_regional_quarantine_timeline['mode'] = df_regional_quarantine_timeline[provinces].mode(axis=1)[0]\n",
    "df_regional_quarantine_timeline['mode'] = df_regional_quarantine_timeline['mode'].astype(quarantine_cat_type)\n",
    "df_regional_quarantine_timeline['mode Q Code'] = df_regional_quarantine_timeline['mode'].cat.codes\n",
    "\n",
    "# Add Mode of Quarantine Level of each region\n",
    "\n",
    "provinces = province_to_locations_array(\"III\").tolist()\n",
    "df_regional_quarantine_timeline['region_iii_mode'] = df_regional_quarantine_timeline[provinces].mode(axis=1)[0]\n",
    "df_regional_quarantine_timeline['region_iii_mode'] = df_regional_quarantine_timeline['region_iii_mode'].astype(quarantine_cat_type)\n",
    "df_regional_quarantine_timeline['region_iii_mode Q Code'] = df_regional_quarantine_timeline['region_iii_mode'].cat.codes\n",
    "\n",
    "provinces = province_to_locations_array(\"IV-A\").tolist()\n",
    "df_regional_quarantine_timeline['region_iva_mode'] = df_regional_quarantine_timeline[provinces].mode(axis=1)[0]\n",
    "df_regional_quarantine_timeline['region_iva_mode'] = df_regional_quarantine_timeline['region_iva_mode'].astype(quarantine_cat_type)\n",
    "df_regional_quarantine_timeline['region_iva_mode Q Code'] = df_regional_quarantine_timeline['region_iva_mode'].cat.codes\n",
    "\n",
    "provinces = province_to_locations_array(\"NCR\").tolist()\n",
    "df_regional_quarantine_timeline['region_ncr_mode'] = df_regional_quarantine_timeline[provinces].mode(axis=1)[0]\n",
    "df_regional_quarantine_timeline['region_ncr_mode'] = df_regional_quarantine_timeline['region_ncr_mode'].astype(quarantine_cat_type)\n",
    "df_regional_quarantine_timeline['region_ncr_mode Q Code'] = df_regional_quarantine_timeline['region_ncr_mode'].cat.codes\n",
    "\n",
    "provinces = province_to_locations_array(\"VII\").tolist()\n",
    "# print(df_regional_quarantine_timeline[provinces].mode(axis=1))\n",
    "df_regional_quarantine_timeline['region_vii_mode'] = df_regional_quarantine_timeline[provinces].mode(axis=1)[0]\n",
    "df_regional_quarantine_timeline['region_vii_mode'] = df_regional_quarantine_timeline['region_vii_mode'].astype(quarantine_cat_type)\n",
    "df_regional_quarantine_timeline['region_vii_mode Q Code'] = df_regional_quarantine_timeline['region_vii_mode'].cat.codes\n",
    "\n",
    "provinces = province_to_locations_array(\"XI\").tolist()\n",
    "# print(provinces)\n",
    "# print(df_regional_quarantine_timeline[provinces])\n",
    "# print(df_regional_quarantine_timeline[provinces].mode(axis=1)[0])\n",
    "df_regional_quarantine_timeline['region_xi_mode'] = df_regional_quarantine_timeline[provinces].mode(axis=1)[0]\n",
    "df_regional_quarantine_timeline['region_xi_mode'] = df_regional_quarantine_timeline['region_xi_mode'].astype(quarantine_cat_type)\n",
    "df_regional_quarantine_timeline['region_xi_mode Q Code'] = df_regional_quarantine_timeline['region_xi_mode'].cat.codes"
   ]
  },
  {
   "cell_type": "code",
   "execution_count": 48,
   "metadata": {},
   "outputs": [],
   "source": [
    "# Output Generated CSV\n",
    "df_regional_quarantine_timeline.to_csv(\"datasets/quarantine_measures.csv\", index=False)"
   ]
  },
  {
   "cell_type": "code",
   "execution_count": null,
   "metadata": {},
   "outputs": [],
   "source": []
  }
 ],
 "metadata": {
  "kernelspec": {
   "display_name": "Python 3",
   "language": "python",
   "name": "python3"
  },
  "language_info": {
   "codemirror_mode": {
    "name": "ipython",
    "version": 3
   },
   "file_extension": ".py",
   "mimetype": "text/x-python",
   "name": "python",
   "nbconvert_exporter": "python",
   "pygments_lexer": "ipython3",
   "version": "3.8.5"
  }
 },
 "nbformat": 4,
 "nbformat_minor": 4
}
