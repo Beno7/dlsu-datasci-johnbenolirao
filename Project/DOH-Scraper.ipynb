{
 "cells": [
  {
   "cell_type": "markdown",
   "metadata": {},
   "source": [
    "# DOH Covid 19 Tracker Scraper\n",
    "\n",
    "This data was scraped from DOH's covid-19 tracker (https://www.doh.gov.ph/covid19tracker), specifically, from the line graph.\n",
    "\n",
    "Ultimately, we have decided to scrape another site which has the data that we need (see **Template-Scraper.ipynb**)."
   ]
  },
  {
   "cell_type": "markdown",
   "metadata": {},
   "source": [
    "## I. Import Modules"
   ]
  },
  {
   "cell_type": "code",
   "execution_count": 1,
   "metadata": {},
   "outputs": [],
   "source": [
    "import requests\n",
    "from bs4 import BeautifulSoup\n",
    "import json\n",
    "import re\n",
    "import pandas as pd\n",
    "import numpy as np\n",
    "from datetime import datetime"
   ]
  },
  {
   "cell_type": "markdown",
   "metadata": {},
   "source": [
    "## II. Perform GET request from Tableau site\n",
    "\n",
    "Extract all the necessary data such as Tableau SheetId and Request X-Session-Id (to obtain the actual data being protrayed)"
   ]
  },
  {
   "cell_type": "code",
   "execution_count": 2,
   "metadata": {},
   "outputs": [
    {
     "name": "stdout",
     "output_type": "stream",
     "text": [
      "Home\n"
     ]
    }
   ],
   "source": [
    "url = \"https://public.tableau.com/views/COVID-19CasesandDeathsinthePhilippines_15866705872710/Home\"\n",
    "\n",
    "r = requests.get(\n",
    "    url,\n",
    "    headers={\n",
    "        \"Accept\": \"text/html,application/xhtml+xml,application/xml;q=0.9,image/webp,image/apng,*/*;q=0.8,application/signed-exchange;v=b3;q=0.9\",\n",
    "        \"Accept-Encoding\": \"gzip, deflate, br\",\n",
    "        \"Accept-Language\": \"en-US,en;q=0.9,fil;q=0.8,af;q=0.7\",\n",
    "        \"Cache-Control\": \"max-age=0\"\n",
    "    },\n",
    "    params= {\n",
    "        \":embed\":\"y\",\n",
    "        \":showVizHome\": \"no\",\n",
    "        \":host_url\": \"https://public.tableau.com/\",\n",
    "        \":embed_code_version\": 3,\n",
    "        \":tabs\": \"no\",\n",
    "        \":toolbar\": \"yes\",\n",
    "        \":animate_transition\": \"yes\",\n",
    "        \":display_static_image\": \"no\",\n",
    "        \":display_spinner\": \"no\",\n",
    "        \":display_overlay\": \"yes\",\n",
    "        \":display_count\": \"yes\",\n",
    "        \":loadOrderID\": 0,\n",
    "        \"publish\": \"yes\"\n",
    "    }\n",
    ")\n",
    "soup = BeautifulSoup(r.text, \"html.parser\")\n",
    "\n",
    "\n",
    "\n",
    "tableauData = json.loads(soup.find(\"textarea\",{\"id\": \"tsConfigContainer\"}).text)\n",
    "\n",
    "dataUrl = f\"https://public.tableau.com/vizql/w/COVID-19CasesandDeathsinthePhilippines_15866705872710/v/Home/bootstrapSession/sessions/{r.headers['X-Session-Id']}\"\n",
    "\n",
    "r = requests.post(dataUrl, data = {\n",
    "    \"sheet_id\": tableauData[\"sheetId\"],\n",
    "})\n",
    "\n",
    "print(tableauData[\"sheetId\"])\n",
    "\n",
    "dataReg = re.search('\\d+;({.*})\\d+;({.*})', r.text, re.MULTILINE)\n",
    "info = json.loads(dataReg.group(1))\n",
    "data = json.loads(dataReg.group(2))\n",
    "\n",
    "\n",
    "# 9th\n",
    "\n",
    "# print(data)\n",
    "# print(data[\"secondaryInfo\"][\"presModelMap\"][\"dataDictionary\"][\"presModelHolder\"][\"genDataDictionaryPresModel\"][\"dataSegments\"][\"0\"][\"dataColumns\"])"
   ]
  },
  {
   "cell_type": "markdown",
   "metadata": {},
   "source": [
    "## III. Extract Entries from Line Graph Data"
   ]
  },
  {
   "cell_type": "code",
   "execution_count": 3,
   "metadata": {},
   "outputs": [],
   "source": [
    "def generate_line_data(data):\n",
    "    '''\n",
    "    Generates Line Data\n",
    "    \n",
    "    Parameters:\n",
    "    data - scraped tableau data\n",
    "    \n",
    "    Returns pandas.DataFrame\n",
    "    '''\n",
    "    \n",
    "    line_dat = data[\"secondaryInfo\"][\"presModelMap\"][\"dataDictionary\"][\"presModelHolder\"][\"genDataDictionaryPresModel\"][\"dataSegments\"][\"0\"][\"dataColumns\"][0]['dataValues']\n",
    "    cstring_dat = data[\"secondaryInfo\"][\"presModelMap\"][\"dataDictionary\"][\"presModelHolder\"][\"genDataDictionaryPresModel\"][\"dataSegments\"][\"0\"][\"dataColumns\"][2]['dataValues']\n",
    "    line_dat_indices = data[\"secondaryInfo\"][\"presModelMap\"]['vizData'][\"presModelHolder\"]['genPresModelMapPresModel']['presModelMap']['Epi_Curve']['presModelHolder']['genVizDataPresModel']['paneColumnsData']['paneColumnsList'][0]['vizPaneColumns'][7]['valueIndices']\n",
    "    \n",
    "    # print(line_dat_indices)\n",
    "    def does_str_have_month(cstring):\n",
    "        return (\"January \" in cstring\n",
    "                or \"February \" in cstring\n",
    "                or \"March \" in cstring\n",
    "                or \"April \" in cstring\n",
    "                or \"May \" in cstring\n",
    "                or \"June \" in cstring\n",
    "                or \"July \" in cstring\n",
    "                or \"August \" in cstring\n",
    "                or \"September \" in cstring\n",
    "                or \"October \" in cstring\n",
    "                or \"November \" in cstring\n",
    "                or \"December \" in cstring)\n",
    "\n",
    "    date_cstrings = []\n",
    "    for cstring in cstring_dat:\n",
    "        if does_str_have_month(cstring):\n",
    "            if len(date_cstrings) > 1:\n",
    "                curr = datetime.strptime(cstring, \"%B %d, %Y\")\n",
    "                prev = datetime.strptime(date_cstrings[len(date_cstrings) - 1], \"%B %d, %Y\")\n",
    "                if curr < prev:\n",
    "                    date_cstrings.append(cstring)\n",
    "            else:\n",
    "                date_cstrings.append(cstring)\n",
    "    # print(date_cstrings)\n",
    "    \n",
    "    dict_data = {\"date\": date_cstrings, \"values\": []}\n",
    "    # print(len(date_cstrings))\n",
    "    # print(range(len(date_cstrings)))\n",
    "    ctr = 0\n",
    "    for index in line_dat_indices:\n",
    "        dict_data['values'].append(line_dat[index])\n",
    "    \n",
    "    # print(\"\\n\\n\")\n",
    "    # print(dict_data)\n",
    "    return pd.DataFrame(data=dict_data)\n"
   ]
  },
  {
   "cell_type": "markdown",
   "metadata": {},
   "source": [
    "## IV. Perform Wrangling"
   ]
  },
  {
   "cell_type": "code",
   "execution_count": 4,
   "metadata": {},
   "outputs": [
    {
     "data": {
      "text/html": [
       "<div>\n",
       "<style scoped>\n",
       "    .dataframe tbody tr th:only-of-type {\n",
       "        vertical-align: middle;\n",
       "    }\n",
       "\n",
       "    .dataframe tbody tr th {\n",
       "        vertical-align: top;\n",
       "    }\n",
       "\n",
       "    .dataframe thead th {\n",
       "        text-align: right;\n",
       "    }\n",
       "</style>\n",
       "<table border=\"1\" class=\"dataframe\">\n",
       "  <thead>\n",
       "    <tr style=\"text-align: right;\">\n",
       "      <th></th>\n",
       "      <th>date</th>\n",
       "      <th>values</th>\n",
       "    </tr>\n",
       "  </thead>\n",
       "  <tbody>\n",
       "    <tr>\n",
       "      <th>0</th>\n",
       "      <td>2020-09-16</td>\n",
       "      <td>230</td>\n",
       "    </tr>\n",
       "    <tr>\n",
       "      <th>1</th>\n",
       "      <td>2020-09-15</td>\n",
       "      <td>441</td>\n",
       "    </tr>\n",
       "    <tr>\n",
       "      <th>2</th>\n",
       "      <td>2020-09-14</td>\n",
       "      <td>616</td>\n",
       "    </tr>\n",
       "    <tr>\n",
       "      <th>3</th>\n",
       "      <td>2020-09-13</td>\n",
       "      <td>1398</td>\n",
       "    </tr>\n",
       "    <tr>\n",
       "      <th>4</th>\n",
       "      <td>2020-09-12</td>\n",
       "      <td>2336</td>\n",
       "    </tr>\n",
       "    <tr>\n",
       "      <th>...</th>\n",
       "      <td>...</td>\n",
       "      <td>...</td>\n",
       "    </tr>\n",
       "    <tr>\n",
       "      <th>197</th>\n",
       "      <td>2020-03-03</td>\n",
       "      <td>46</td>\n",
       "    </tr>\n",
       "    <tr>\n",
       "      <th>198</th>\n",
       "      <td>2020-03-02</td>\n",
       "      <td>33</td>\n",
       "    </tr>\n",
       "    <tr>\n",
       "      <th>199</th>\n",
       "      <td>2020-03-01</td>\n",
       "      <td>48</td>\n",
       "    </tr>\n",
       "    <tr>\n",
       "      <th>200</th>\n",
       "      <td>2020-01-21</td>\n",
       "      <td>2</td>\n",
       "    </tr>\n",
       "    <tr>\n",
       "      <th>201</th>\n",
       "      <td>2020-01-18</td>\n",
       "      <td>1</td>\n",
       "    </tr>\n",
       "  </tbody>\n",
       "</table>\n",
       "<p>202 rows × 2 columns</p>\n",
       "</div>"
      ],
      "text/plain": [
       "          date  values\n",
       "0   2020-09-16     230\n",
       "1   2020-09-15     441\n",
       "2   2020-09-14     616\n",
       "3   2020-09-13    1398\n",
       "4   2020-09-12    2336\n",
       "..         ...     ...\n",
       "197 2020-03-03      46\n",
       "198 2020-03-02      33\n",
       "199 2020-03-01      48\n",
       "200 2020-01-21       2\n",
       "201 2020-01-18       1\n",
       "\n",
       "[202 rows x 2 columns]"
      ]
     },
     "execution_count": 4,
     "metadata": {},
     "output_type": "execute_result"
    }
   ],
   "source": [
    "all_regions_dict = generate_line_data(data)\n",
    "all_regions_dict['date'] = pd.to_datetime(all_regions_dict['date'])\n",
    "all_regions_dict['values'] = all_regions_dict['values'].astype('int')\n",
    "all_regions_dict"
   ]
  },
  {
   "cell_type": "markdown",
   "metadata": {},
   "source": [
    "## V. Store Data"
   ]
  },
  {
   "cell_type": "code",
   "execution_count": 5,
   "metadata": {},
   "outputs": [],
   "source": [
    "all_regions_dict.to_csv('datasets/covid_spread_from_doh_tableau.csv', index=False)"
   ]
  },
  {
   "cell_type": "code",
   "execution_count": null,
   "metadata": {},
   "outputs": [],
   "source": []
  }
 ],
 "metadata": {
  "kernelspec": {
   "display_name": "Python 3",
   "language": "python",
   "name": "python3"
  },
  "language_info": {
   "codemirror_mode": {
    "name": "ipython",
    "version": 3
   },
   "file_extension": ".py",
   "mimetype": "text/x-python",
   "name": "python",
   "nbconvert_exporter": "python",
   "pygments_lexer": "ipython3",
   "version": "3.8.5"
  }
 },
 "nbformat": 4,
 "nbformat_minor": 4
}
